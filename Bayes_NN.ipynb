{
  "nbformat": 4,
  "nbformat_minor": 0,
  "metadata": {
    "colab": {
      "name": "Bayes-NN.ipynb",
      "provenance": [],
      "collapsed_sections": []
    },
    "kernelspec": {
      "name": "python3",
      "display_name": "Python 3"
    }
  },
  "cells": [
    {
      "cell_type": "code",
      "metadata": {
        "id": "DApFBGRFKC1A",
        "colab_type": "code",
        "colab": {}
      },
      "source": [
        "import pandas as pd\n",
        "import numpy as np\n",
        "from sklearn.model_selection import train_test_split, RepeatedStratifiedKFold, cross_val_score\n",
        "from sklearn.metrics import accuracy_score, f1_score\n",
        "from sklearn.naive_bayes import GaussianNB\n",
        "from collections import Counter\n",
        "from sklearn import datasets\n",
        "from sklearn import preprocessing\n",
        "import matplotlib.pyplot as plt\n",
        "\n",
        "from scipy.stats import sem, t\n",
        "from scipy import mean"
      ],
      "execution_count": null,
      "outputs": []
    },
    {
      "cell_type": "code",
      "metadata": {
        "id": "XTz7mtgsptj9",
        "colab_type": "code",
        "colab": {}
      },
      "source": [
        "def euclidean_distance(x1, x2):\n",
        "    return np.sqrt(np.sum((x1 - x2)**2))\n",
        "\n",
        "class BayesNN:\n",
        "  def __init__(self, k=3):\n",
        "        self.k = k\n",
        "  \n",
        "  def get_params(self, deep=True):\n",
        "    return {\"k\": self.k}\n",
        "\n",
        "  def set_params(self, **parameters):\n",
        "    for parameter, value in parameters.items():\n",
        "        setattr(self, parameter, value)\n",
        "    return self\n",
        "      \n",
        "  def fit(self, X, y):\n",
        "        self.X_train = X\n",
        "        self.y_train = y\n",
        "        self._classes = np.unique(y)\n",
        "\n",
        "  def predict(self, X):\n",
        "        y_pred = [self._predict(x) for x in X]\n",
        "        return np.array(y_pred)\n",
        "  \n",
        "  def _predict(self, x):\n",
        "        posteriors = []\n",
        "        distances = [euclidean_distance(x, x_train) for x_train in self.X_train]\n",
        "        k_idx = np.argsort(distances)[:self.k]\n",
        "        k_neighbor_labels = [self.y_train[i] for i in k_idx]\n",
        "        for idx, c in enumerate(self._classes):\n",
        "            kj = k_neighbor_labels.count(idx)\n",
        "            posterior = kj/self.k\n",
        "            posteriors.append(posterior)\n",
        "        return np.argmax(posteriors)\n",
        "\n",
        "  def predictProb(self, X):\n",
        "        prob = [self._predictProb(x) for x in X]\n",
        "        return np.array(prob)\n",
        "  \n",
        "  def _predictProb(self, x):\n",
        "        posteriors = []\n",
        "        distances = [euclidean_distance(x, x_train) for x_train in self.X_train]\n",
        "        k_idx = np.argsort(distances)[:self.k]\n",
        "        k_neighbor_labels = [self.y_train[i] for i in k_idx]\n",
        "        for idx, c in enumerate(self._classes):\n",
        "            kj = k_neighbor_labels.count(idx)\n",
        "            posterior = kj/self.k\n",
        "            posteriors.append(posterior)\n",
        "        return posteriors"
      ],
      "execution_count": null,
      "outputs": []
    },
    {
      "cell_type": "code",
      "metadata": {
        "id": "6mLOzAaUZjjg",
        "colab_type": "code",
        "colab": {}
      },
      "source": [
        "def predictSoma(pred, X_test1, y_test):\n",
        "    soma = []\n",
        "    p = []\n",
        "    sum = 0\n",
        "    y_pred = []\n",
        "    _classes = np.unique(y)\n",
        "    priors = []\n",
        "    for x in range (len(X_test1)):\n",
        "      for idx, c in enumerate(_classes):\n",
        "          nj = np.count_nonzero(y_test == idx)\n",
        "          priori = nj/len(y_test)\n",
        "          priors.append(priori)\n",
        "          for clf in range(3):\n",
        "            sum = sum + pred[x][clf][idx]\n",
        "          soma.append(sum)\n",
        "          sum = 0\n",
        "          aux = ((1-3)*priors[idx] + soma[idx])\n",
        "          p.append(aux)\n",
        "      soma=[]\n",
        "      y_pred.append(np.argmax(p))\n",
        "      p=[]\n",
        "    return np.array(y_pred)"
      ],
      "execution_count": null,
      "outputs": []
    },
    {
      "cell_type": "code",
      "metadata": {
        "id": "FBXE6MGFuxbT",
        "colab_type": "code",
        "colab": {}
      },
      "source": [
        "view1 = pd.read_csv('https://raw.githubusercontent.com/jsaj/MachineLearning/master/mfeat-fac.csv', header = None, delim_whitespace=True)\n",
        "view2 = pd.read_csv('https://raw.githubusercontent.com/jsaj/MachineLearning/master/mfeat-fou.csv', header = None, delim_whitespace=True)\n",
        "view3 = pd.read_csv('https://raw.githubusercontent.com/jsaj/MachineLearning/master/mfeat-kar.csv', header = None, delim_whitespace=True)\n",
        "\n",
        "target = pd.read_csv('https://raw.githubusercontent.com/jsaj/MachineLearning/master/cluster_membership_tres_m.csv', header = None, delim_whitespace=True)\n",
        "\n",
        "view1 = preprocessing.normalize(view1, 'max')\n",
        "view2 = preprocessing.normalize(view2, 'max')\n",
        "view3 = preprocessing.normalize(view3, 'max')\n",
        "\n",
        "X1 = view1\n",
        "X2 = view2\n",
        "X3 = view3\n",
        "\n",
        "y = np.array(target.values).T[0]"
      ],
      "execution_count": null,
      "outputs": []
    },
    {
      "cell_type": "code",
      "metadata": {
        "id": "9jMsXhrjxBih",
        "colab_type": "code",
        "colab": {}
      },
      "source": [
        "X_train1, X_test1, y_train1, y_test1 = train_test_split (X1,y)\n",
        "X_train2, X_test2, y_train2, y_test2 = train_test_split (X2,y)\n",
        "X_train3, X_test3, y_train3, y_test3 = train_test_split (X3,y)\n",
        "\n",
        "Xtrain = [X_train1, X_train2, X_train3]\n",
        "ytrain = [y_train1, y_train2, y_train3]"
      ],
      "execution_count": null,
      "outputs": []
    },
    {
      "cell_type": "code",
      "metadata": {
        "id": "GIITQc0ZuYOp",
        "colab_type": "code",
        "colab": {
          "base_uri": "https://localhost:8080/",
          "height": 901
        },
        "outputId": "96f0ee95-19fa-4bf0-e51d-51548a5c95f0"
      },
      "source": [
        "neighbors = list(range(1, 20, 2))\n",
        "\n",
        "K = []\n",
        "for i in range (len(Xtrain)): \n",
        "  cv_scores = []\n",
        "  for k in neighbors:\n",
        "      bnn = BayesNN(k=k)\n",
        "      scores = cross_val_score(bnn, Xtrain[i], ytrain[i], cv=10, scoring='accuracy')\n",
        "      cv_scores.append(scores.mean())\n",
        "      \n",
        "  mse = [1 - x for x in cv_scores]\n",
        "  print (\"Score: \", max(scores))\n",
        "\n",
        "  # determina o melhor k\n",
        "  optimal_k = neighbors[mse.index(min(mse))]\n",
        "  print(\"O K ótimo é {}\".format(optimal_k))\n",
        "  K.append(optimal_k)\n",
        "\n",
        "  # plot erro de classificação vs k\n",
        "  plt.plot(neighbors, mse)\n",
        "  plt.xlabel(\"Valor de K\")\n",
        "  plt.ylabel(\"Erro de Classificação\")\n",
        "  plt.show()"
      ],
      "execution_count": null,
      "outputs": [
        {
          "output_type": "stream",
          "text": [
            "Score:  0.8266666666666667\n",
            "O K ótimo é 7\n"
          ],
          "name": "stdout"
        },
        {
          "output_type": "display_data",
          "data": {
            "image/png": "[encoded data removed]",
            "text/plain": [
              "<Figure size 432x288 with 1 Axes>"
            ]
          },
          "metadata": {
            "tags": [],
            "needs_background": "light"
          }
        },
        {
          "output_type": "stream",
          "text": [
            "Score:  0.7066666666666667\n",
            "O K ótimo é 13\n"
          ],
          "name": "stdout"
        },
        {
          "output_type": "display_data",
          "data": {
            "image/png": "[encoded data removed]",
            "text/plain": [
              "<Figure size 432x288 with 1 Axes>"
            ]
          },
          "metadata": {
            "tags": [],
            "needs_background": "light"
          }
        },
        {
          "output_type": "stream",
          "text": [
            "Score:  0.8\n",
            "O K ótimo é 5\n"
          ],
          "name": "stdout"
        },
        {
          "output_type": "display_data",
          "data": {
            "image/png": "[encoded data removed]",
            "text/plain": [
              "<Figure size 432x288 with 1 Axes>"
            ]
          },
          "metadata": {
            "tags": [],
            "needs_background": "light"
          }
        }
      ]
    },
    {
      "cell_type": "code",
      "metadata": {
        "id": "qwUUhPcJ0CaV",
        "colab_type": "code",
        "colab": {}
      },
      "source": [
        "rskf = RepeatedStratifiedKFold(n_splits=10, n_repeats=30)\n",
        "scores = []\n",
        "\n",
        "for train_index, test_index in rskf.split(X1,y):\n",
        "    X_train1, X_test1 = X1[train_index], X1[test_index]\n",
        "    X_train2, X_test2 = X2[train_index], X2[test_index]\n",
        "    X_train3, X_test3 = X3[train_index], X3[test_index]\n",
        "    \n",
        "    y_train, y_test = y[train_index], y[test_index]\n",
        "    \n",
        "    model1 = BayesNN(K[0])\n",
        "    model2 = BayesNN(K[1])\n",
        "    model3 = BayesNN(K[2])\n",
        "\n",
        "    model1.fit (X_train1, y_train) \n",
        "    model2.fit (X_train2, y_train) \n",
        "    model3.fit (X_train3, y_train) \n",
        "\n",
        "    pred1 = model1.predictProb(X_test1) \n",
        "    pred2 = model2.predictProb(X_test2) \n",
        "    pred3 = model3.predictProb(X_test3)\n",
        "    pred = [[pred1[x], pred2[x], pred3[x]]  for x in range (len(X_test1))]\n",
        "\n",
        "    y_pred = predictSoma(pred, X_test1, y_test)\n",
        "    score = accuracy_score(y_test, y_pred)\n",
        "    scores.append(score)"
      ],
      "execution_count": null,
      "outputs": []
    },
    {
      "cell_type": "code",
      "metadata": {
        "id": "8pouW4O88zlC",
        "colab_type": "code",
        "colab": {
          "base_uri": "https://localhost:8080/",
          "height": 53
        },
        "outputId": "d664cca3-654d-4936-ff9f-bf4ee1e62b73"
      },
      "source": [
        "print(scores)"
      ],
      "execution_count": null,
      "outputs": [
        {
          "output_type": "stream",
          "text": [
            "[0.8, 0.81, 0.805, 0.765, 0.855, 0.83, 0.825, 0.86, 0.79, 0.79, 0.815, 0.76, 0.84, 0.795, 0.81, 0.86, 0.8, 0.83, 0.855, 0.815, 0.835, 0.81, 0.77, 0.81, 0.825, 0.795, 0.825, 0.825, 0.785, 0.84, 0.8, 0.825, 0.805, 0.81, 0.88, 0.8, 0.815, 0.805, 0.81, 0.835, 0.805, 0.79, 0.835, 0.805, 0.775, 0.815, 0.82, 0.785, 0.815, 0.85, 0.825, 0.775, 0.81, 0.805, 0.775, 0.83, 0.845, 0.81, 0.825, 0.79, 0.84, 0.825, 0.785, 0.815, 0.815, 0.775, 0.78, 0.825, 0.865, 0.825, 0.805, 0.87, 0.825, 0.77, 0.77, 0.835, 0.805, 0.82, 0.825, 0.805, 0.815, 0.8, 0.785, 0.815, 0.81, 0.79, 0.85, 0.825, 0.805, 0.79, 0.81, 0.775, 0.815, 0.845, 0.805, 0.8, 0.8, 0.805, 0.81, 0.87, 0.79, 0.83, 0.76, 0.8, 0.795, 0.85, 0.785, 0.81, 0.815, 0.825, 0.8, 0.795, 0.83, 0.86, 0.81, 0.77, 0.74, 0.84, 0.845, 0.835, 0.815, 0.855, 0.765, 0.83, 0.795, 0.805, 0.83, 0.785, 0.825, 0.85, 0.795, 0.84, 0.805, 0.805, 0.755, 0.79, 0.825, 0.835, 0.835, 0.855, 0.825, 0.795, 0.815, 0.825, 0.785, 0.745, 0.86, 0.8, 0.82, 0.86, 0.815, 0.805, 0.815, 0.78, 0.79, 0.765, 0.83, 0.845, 0.815, 0.815, 0.835, 0.8, 0.785, 0.84, 0.805, 0.795, 0.84, 0.815, 0.83, 0.78, 0.795, 0.77, 0.805, 0.82, 0.855, 0.78, 0.845, 0.81, 0.845, 0.81, 0.86, 0.805, 0.84, 0.835, 0.82, 0.79, 0.81, 0.815, 0.78, 0.77, 0.845, 0.75, 0.815, 0.825, 0.75, 0.765, 0.83, 0.855, 0.795, 0.86, 0.84, 0.82, 0.81, 0.835, 0.835, 0.815, 0.81, 0.81, 0.785, 0.785, 0.82, 0.855, 0.805, 0.77, 0.815, 0.885, 0.79, 0.815, 0.825, 0.805, 0.8, 0.86, 0.825, 0.805, 0.87, 0.785, 0.825, 0.815, 0.785, 0.76, 0.82, 0.805, 0.8, 0.825, 0.81, 0.82, 0.85, 0.81, 0.82, 0.82, 0.785, 0.795, 0.84, 0.83, 0.795, 0.785, 0.83, 0.845, 0.785, 0.805, 0.81, 0.82, 0.875, 0.83, 0.805, 0.795, 0.755, 0.85, 0.795, 0.82, 0.775, 0.815, 0.8, 0.83, 0.82, 0.8, 0.825, 0.835, 0.79, 0.865, 0.805, 0.81, 0.81, 0.81, 0.805, 0.79, 0.815, 0.83, 0.79, 0.835, 0.775, 0.795, 0.81, 0.795, 0.785, 0.835, 0.865, 0.8, 0.87, 0.825, 0.79, 0.8, 0.845, 0.835, 0.815, 0.82, 0.825, 0.835, 0.795, 0.805]\n"
          ],
          "name": "stdout"
        }
      ]
    },
    {
      "cell_type": "code",
      "metadata": {
        "id": "xT0MRwGIWtMW",
        "colab_type": "code",
        "colab": {
          "base_uri": "https://localhost:8080/",
          "height": 99
        },
        "outputId": "7232eaac-c4e2-4c38-b82b-fee32b427c57"
      },
      "source": [
        "confidence = 0.95\n",
        "\n",
        "n = len(scores)\n",
        "m = mean(scores)\n",
        "std_err = sem(scores)\n",
        "h = std_err * t.ppf((1 + confidence) / 2, n - 1)\n",
        "\n",
        "print(\"Média\", m)\n",
        "print(\"Erro Padrão\", std_err)\n",
        "start = m - h\n",
        "end = m + h\n",
        "print(\"Intervalo de confiança\", start, end)"
      ],
      "execution_count": null,
      "outputs": [
        {
          "output_type": "stream",
          "text": [
            "Média 0.8130833333333334\n",
            "Erro Padrão 0.0015215762109528526\n",
            "Intervalo de confiança 0.8100889783640552 0.8160776883026115\n"
          ],
          "name": "stdout"
        },
        {
          "output_type": "stream",
          "text": [
            "/usr/local/lib/python3.6/dist-packages/ipykernel_launcher.py:4: DeprecationWarning: scipy.mean is deprecated and will be removed in SciPy 2.0.0, use numpy.mean instead\n",
            "  after removing the cwd from sys.path.\n"
          ],
          "name": "stderr"
        }
      ]
    }
  ]
}